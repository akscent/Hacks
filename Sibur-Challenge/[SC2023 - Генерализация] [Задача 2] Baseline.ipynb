{
 "cells": [
  {
   "cell_type": "code",
   "execution_count": 1,
   "metadata": {
    "ExecuteTime": {
     "end_time": "2023-05-21T22:27:50.458103Z",
     "start_time": "2023-05-21T22:27:49.043756Z"
    }
   },
   "outputs": [],
   "source": [
    "# Визуализации\n",
    "\n",
    "from matplotlib import pyplot as plt\n",
    "import seaborn as sns"
   ]
  },
  {
   "cell_type": "code",
   "execution_count": 2,
   "metadata": {
    "ExecuteTime": {
     "end_time": "2023-05-20T08:11:49.009778Z",
     "start_time": "2023-05-20T08:11:49.006754Z"
    }
   },
   "outputs": [],
   "source": [
    "plt.style.use(\"bmh\")\n",
    "plt.rcParams[\"axes.titlesize\"] = \"large\""
   ]
  },
  {
   "cell_type": "code",
   "execution_count": 2,
   "metadata": {
    "ExecuteTime": {
     "end_time": "2023-05-21T22:27:50.470177Z",
     "start_time": "2023-05-21T22:27:50.460232Z"
    }
   },
   "outputs": [],
   "source": [
    "# Общеe\n",
    "\n",
    "import os\n",
    "import tqdm\n",
    "import pathlib\n",
    "import numpy as np\n",
    "import pandas as pd\n",
    "\n",
    "tqdm.tqdm.pandas()\n",
    "pd.set_option('display.max_columns', None)"
   ]
  },
  {
   "cell_type": "code",
   "execution_count": 3,
   "metadata": {
    "ExecuteTime": {
     "end_time": "2023-05-21T22:27:54.682854Z",
     "start_time": "2023-05-21T22:27:54.181087Z"
    }
   },
   "outputs": [],
   "source": [
    "from sklearn.model_selection import train_test_split\n",
    "from sklearn.metrics import mean_absolute_percentage_error\n",
    "from catboost import CatBoostRegressor"
   ]
  },
  {
   "cell_type": "markdown",
   "metadata": {},
   "source": [
    "<div class=\"alert alert-block alert-warning\">\n",
    "Не забудьте заменить <tt>DATA_DIR</tt> на имя локальной директории, в которую сохранили файл.\n",
    "</div>"
   ]
  },
  {
   "cell_type": "code",
   "execution_count": 14,
   "metadata": {
    "ExecuteTime": {
     "end_time": "2023-05-21T22:43:35.561938Z",
     "start_time": "2023-05-21T22:43:35.555216Z"
    }
   },
   "outputs": [],
   "source": [
    "DATA_DIR = pathlib.Path(\"../data/2/dataset/\")\n",
    "RS = 3984765"
   ]
  },
  {
   "cell_type": "markdown",
   "metadata": {},
   "source": [
    "# Загрузка данных\n",
    "\n",
    "Данные хранятся в формате Parquet: читается быстрее, места занимает меньше."
   ]
  },
  {
   "cell_type": "code",
   "execution_count": 17,
   "metadata": {
    "ExecuteTime": {
     "end_time": "2023-05-21T22:43:47.054832Z",
     "start_time": "2023-05-21T22:43:46.857909Z"
    }
   },
   "outputs": [
    {
     "data": {
      "text/html": [
       "<div>\n",
       "<style scoped>\n",
       "    .dataframe tbody tr th:only-of-type {\n",
       "        vertical-align: middle;\n",
       "    }\n",
       "\n",
       "    .dataframe tbody tr th {\n",
       "        vertical-align: top;\n",
       "    }\n",
       "\n",
       "    .dataframe thead th {\n",
       "        text-align: right;\n",
       "    }\n",
       "</style>\n",
       "<table border=\"1\" class=\"dataframe\">\n",
       "  <thead>\n",
       "    <tr style=\"text-align: right;\">\n",
       "      <th></th>\n",
       "      <th>feature0</th>\n",
       "      <th>feature1</th>\n",
       "      <th>feature2</th>\n",
       "      <th>feature3</th>\n",
       "      <th>feature4</th>\n",
       "      <th>feature5</th>\n",
       "      <th>feature6</th>\n",
       "      <th>feature7</th>\n",
       "      <th>feature8</th>\n",
       "      <th>feature9</th>\n",
       "      <th>feature10</th>\n",
       "      <th>feature11</th>\n",
       "      <th>feature12</th>\n",
       "      <th>feature13</th>\n",
       "      <th>feature14</th>\n",
       "      <th>feature15</th>\n",
       "      <th>feature16</th>\n",
       "      <th>feature17</th>\n",
       "      <th>feature18</th>\n",
       "      <th>feature19</th>\n",
       "      <th>feature20</th>\n",
       "      <th>feature21</th>\n",
       "      <th>feature22</th>\n",
       "      <th>feature23</th>\n",
       "      <th>feature24</th>\n",
       "      <th>target0</th>\n",
       "      <th>target1</th>\n",
       "    </tr>\n",
       "  </thead>\n",
       "  <tbody>\n",
       "    <tr>\n",
       "      <th>0</th>\n",
       "      <td>32.910908</td>\n",
       "      <td>17.376350</td>\n",
       "      <td>77.557840</td>\n",
       "      <td>2.929855</td>\n",
       "      <td>gas1</td>\n",
       "      <td>20.487150</td>\n",
       "      <td>57.633085</td>\n",
       "      <td>49.245392</td>\n",
       "      <td>-44.124381</td>\n",
       "      <td>23.400064</td>\n",
       "      <td>-28.640648</td>\n",
       "      <td>-10.995420</td>\n",
       "      <td>40.856313</td>\n",
       "      <td>29.912800</td>\n",
       "      <td>33.168114</td>\n",
       "      <td>18.769718</td>\n",
       "      <td>41.812507</td>\n",
       "      <td>14.203652</td>\n",
       "      <td>9.689942</td>\n",
       "      <td>17.951627</td>\n",
       "      <td>24.198589</td>\n",
       "      <td>102.448710</td>\n",
       "      <td>110.529868</td>\n",
       "      <td>56.817260</td>\n",
       "      <td>12.887802</td>\n",
       "      <td>27.050891</td>\n",
       "      <td>6.502743</td>\n",
       "    </tr>\n",
       "    <tr>\n",
       "      <th>1</th>\n",
       "      <td>41.263782</td>\n",
       "      <td>22.419445</td>\n",
       "      <td>47.945514</td>\n",
       "      <td>-25.847472</td>\n",
       "      <td>gas2</td>\n",
       "      <td>21.461239</td>\n",
       "      <td>3.474080</td>\n",
       "      <td>49.659980</td>\n",
       "      <td>-13.553188</td>\n",
       "      <td>-13.047593</td>\n",
       "      <td>-12.445940</td>\n",
       "      <td>16.657368</td>\n",
       "      <td>42.453280</td>\n",
       "      <td>99.792375</td>\n",
       "      <td>127.159321</td>\n",
       "      <td>-13.180244</td>\n",
       "      <td>50.722470</td>\n",
       "      <td>-14.451904</td>\n",
       "      <td>-0.906120</td>\n",
       "      <td>105.724742</td>\n",
       "      <td>-9.435222</td>\n",
       "      <td>-16.060150</td>\n",
       "      <td>37.286110</td>\n",
       "      <td>61.224272</td>\n",
       "      <td>39.822424</td>\n",
       "      <td>84.127890</td>\n",
       "      <td>76.578716</td>\n",
       "    </tr>\n",
       "    <tr>\n",
       "      <th>2</th>\n",
       "      <td>25.580283</td>\n",
       "      <td>17.376350</td>\n",
       "      <td>77.654180</td>\n",
       "      <td>2.799411</td>\n",
       "      <td>gas1</td>\n",
       "      <td>20.487150</td>\n",
       "      <td>28.938295</td>\n",
       "      <td>49.245392</td>\n",
       "      <td>-44.124381</td>\n",
       "      <td>20.610679</td>\n",
       "      <td>-28.641150</td>\n",
       "      <td>-1.886830</td>\n",
       "      <td>40.927941</td>\n",
       "      <td>16.340674</td>\n",
       "      <td>60.760647</td>\n",
       "      <td>18.658501</td>\n",
       "      <td>52.731646</td>\n",
       "      <td>14.395054</td>\n",
       "      <td>9.779019</td>\n",
       "      <td>17.951638</td>\n",
       "      <td>24.999453</td>\n",
       "      <td>101.728213</td>\n",
       "      <td>111.471534</td>\n",
       "      <td>52.664304</td>\n",
       "      <td>12.887802</td>\n",
       "      <td>22.080133</td>\n",
       "      <td>3.036043</td>\n",
       "    </tr>\n",
       "    <tr>\n",
       "      <th>3</th>\n",
       "      <td>33.756900</td>\n",
       "      <td>17.376350</td>\n",
       "      <td>73.049625</td>\n",
       "      <td>2.953982</td>\n",
       "      <td>gas1</td>\n",
       "      <td>20.487150</td>\n",
       "      <td>28.932311</td>\n",
       "      <td>49.245392</td>\n",
       "      <td>-44.124381</td>\n",
       "      <td>18.107963</td>\n",
       "      <td>-28.642094</td>\n",
       "      <td>16.284415</td>\n",
       "      <td>40.869406</td>\n",
       "      <td>43.707663</td>\n",
       "      <td>48.037510</td>\n",
       "      <td>18.771030</td>\n",
       "      <td>52.305692</td>\n",
       "      <td>14.184314</td>\n",
       "      <td>9.798969</td>\n",
       "      <td>17.951675</td>\n",
       "      <td>23.990300</td>\n",
       "      <td>101.312113</td>\n",
       "      <td>115.589451</td>\n",
       "      <td>56.840719</td>\n",
       "      <td>12.887802</td>\n",
       "      <td>30.234082</td>\n",
       "      <td>8.910795</td>\n",
       "    </tr>\n",
       "    <tr>\n",
       "      <th>4</th>\n",
       "      <td>4.223732</td>\n",
       "      <td>38.772534</td>\n",
       "      <td>48.015553</td>\n",
       "      <td>-25.843943</td>\n",
       "      <td>gas2</td>\n",
       "      <td>24.635721</td>\n",
       "      <td>12.011581</td>\n",
       "      <td>51.030938</td>\n",
       "      <td>84.244199</td>\n",
       "      <td>-17.735680</td>\n",
       "      <td>40.395582</td>\n",
       "      <td>16.557978</td>\n",
       "      <td>65.988300</td>\n",
       "      <td>91.081310</td>\n",
       "      <td>150.949700</td>\n",
       "      <td>-13.172169</td>\n",
       "      <td>51.012294</td>\n",
       "      <td>-14.439953</td>\n",
       "      <td>8.262354</td>\n",
       "      <td>90.187207</td>\n",
       "      <td>-2.901661</td>\n",
       "      <td>-16.060150</td>\n",
       "      <td>37.398779</td>\n",
       "      <td>40.488468</td>\n",
       "      <td>128.295838</td>\n",
       "      <td>71.128092</td>\n",
       "      <td>50.475082</td>\n",
       "    </tr>\n",
       "  </tbody>\n",
       "</table>\n",
       "</div>"
      ],
      "text/plain": [
       "    feature0   feature1   feature2   feature3 feature4   feature5   feature6  \\\n",
       "0  32.910908  17.376350  77.557840   2.929855     gas1  20.487150  57.633085   \n",
       "1  41.263782  22.419445  47.945514 -25.847472     gas2  21.461239   3.474080   \n",
       "2  25.580283  17.376350  77.654180   2.799411     gas1  20.487150  28.938295   \n",
       "3  33.756900  17.376350  73.049625   2.953982     gas1  20.487150  28.932311   \n",
       "4   4.223732  38.772534  48.015553 -25.843943     gas2  24.635721  12.011581   \n",
       "\n",
       "    feature7   feature8   feature9  feature10  feature11  feature12  \\\n",
       "0  49.245392 -44.124381  23.400064 -28.640648 -10.995420  40.856313   \n",
       "1  49.659980 -13.553188 -13.047593 -12.445940  16.657368  42.453280   \n",
       "2  49.245392 -44.124381  20.610679 -28.641150  -1.886830  40.927941   \n",
       "3  49.245392 -44.124381  18.107963 -28.642094  16.284415  40.869406   \n",
       "4  51.030938  84.244199 -17.735680  40.395582  16.557978  65.988300   \n",
       "\n",
       "   feature13   feature14  feature15  feature16  feature17  feature18  \\\n",
       "0  29.912800   33.168114  18.769718  41.812507  14.203652   9.689942   \n",
       "1  99.792375  127.159321 -13.180244  50.722470 -14.451904  -0.906120   \n",
       "2  16.340674   60.760647  18.658501  52.731646  14.395054   9.779019   \n",
       "3  43.707663   48.037510  18.771030  52.305692  14.184314   9.798969   \n",
       "4  91.081310  150.949700 -13.172169  51.012294 -14.439953   8.262354   \n",
       "\n",
       "    feature19  feature20   feature21   feature22  feature23   feature24  \\\n",
       "0   17.951627  24.198589  102.448710  110.529868  56.817260   12.887802   \n",
       "1  105.724742  -9.435222  -16.060150   37.286110  61.224272   39.822424   \n",
       "2   17.951638  24.999453  101.728213  111.471534  52.664304   12.887802   \n",
       "3   17.951675  23.990300  101.312113  115.589451  56.840719   12.887802   \n",
       "4   90.187207  -2.901661  -16.060150   37.398779  40.488468  128.295838   \n",
       "\n",
       "     target0    target1  \n",
       "0  27.050891   6.502743  \n",
       "1  84.127890  76.578716  \n",
       "2  22.080133   3.036043  \n",
       "3  30.234082   8.910795  \n",
       "4  71.128092  50.475082  "
      ]
     },
     "execution_count": 17,
     "metadata": {},
     "output_type": "execute_result"
    }
   ],
   "source": [
    "train = pd.read_parquet(DATA_DIR.joinpath(\"train.parquet\"))\n",
    "train.head()"
   ]
  },
  {
   "cell_type": "markdown",
   "metadata": {
    "ExecuteTime": {
     "end_time": "2023-05-20T08:00:04.482901Z",
     "start_time": "2023-05-20T08:00:04.479458Z"
    }
   },
   "source": [
    "В данных есть один категориальный признак: `feature4`. Он может принимать значения `gas1` и `gas2`. Таргета два: `target0` и `target1`."
   ]
  },
  {
   "cell_type": "code",
   "execution_count": 7,
   "metadata": {
    "ExecuteTime": {
     "end_time": "2023-05-20T08:11:49.445101Z",
     "start_time": "2023-05-20T08:11:49.436433Z"
    }
   },
   "outputs": [],
   "source": [
    "CAT = [\"feature4\"]\n",
    "TARGETS = [\"target0\", \"target1\"]\n",
    "FTS = train.filter(like=\"feature\").columns.difference(CAT)"
   ]
  },
  {
   "cell_type": "markdown",
   "metadata": {},
   "source": [
    "Проверяем, что с пропусками:"
   ]
  },
  {
   "cell_type": "code",
   "execution_count": 8,
   "metadata": {
    "ExecuteTime": {
     "end_time": "2023-05-20T08:11:49.459073Z",
     "start_time": "2023-05-20T08:11:49.447400Z"
    }
   },
   "outputs": [
    {
     "data": {
      "text/plain": [
       "0.0"
      ]
     },
     "execution_count": 8,
     "metadata": {},
     "output_type": "execute_result"
    }
   ],
   "source": [
    "train.isnull().any().mean()"
   ]
  },
  {
   "cell_type": "markdown",
   "metadata": {},
   "source": [
    "Их нет! Вот это поворот! Посмотрим на таргеты:"
   ]
  },
  {
   "cell_type": "code",
   "execution_count": 9,
   "metadata": {
    "ExecuteTime": {
     "end_time": "2023-05-20T08:11:49.675390Z",
     "start_time": "2023-05-20T08:11:49.460772Z"
    }
   },
   "outputs": [
    {
     "data": {
      "image/png": "[encoded data removed]",
      "text/plain": [
       "<Figure size 432x432 with 1 Axes>"
      ]
     },
     "metadata": {
      "needs_background": "light"
     },
     "output_type": "display_data"
    }
   ],
   "source": [
    "plt.figure(figsize=(6,6))\n",
    "\n",
    "train[TARGETS].plot(kind=\"hist\", range=(0, 100), bins=20, alpha=0.6, ax=plt.gca())\n",
    "plt.xlabel(\"target\");"
   ]
  },
  {
   "cell_type": "markdown",
   "metadata": {},
   "source": [
    "Категориальный признак меняем на числовой:"
   ]
  },
  {
   "cell_type": "code",
   "execution_count": 10,
   "metadata": {
    "ExecuteTime": {
     "end_time": "2023-05-20T08:11:49.690777Z",
     "start_time": "2023-05-20T08:11:49.677608Z"
    }
   },
   "outputs": [],
   "source": [
    "train[\"gas\"] = 0\n",
    "train.loc[train.feature4==\"gas2\", \"gas\"] = 1"
   ]
  },
  {
   "cell_type": "code",
   "execution_count": 11,
   "metadata": {
    "ExecuteTime": {
     "end_time": "2023-05-20T08:11:49.695462Z",
     "start_time": "2023-05-20T08:11:49.692438Z"
    }
   },
   "outputs": [],
   "source": [
    "FTS = FTS.union([\"gas\"])"
   ]
  },
  {
   "cell_type": "markdown",
   "metadata": {},
   "source": [
    "# Простая модель\n",
    "\n",
    "Построим простую модель со случайным разбиением на тренировочное и валидационное множества. Таргеты будем моделировать отдельно."
   ]
  },
  {
   "cell_type": "code",
   "execution_count": 12,
   "metadata": {
    "ExecuteTime": {
     "end_time": "2023-05-20T08:11:49.737824Z",
     "start_time": "2023-05-20T08:11:49.697518Z"
    }
   },
   "outputs": [],
   "source": [
    "X_tr, X_val, y_tr, y_val = train_test_split(train[FTS], train[TARGETS], train_size=0.5, random_state=RS)"
   ]
  },
  {
   "cell_type": "code",
   "execution_count": 13,
   "metadata": {
    "ExecuteTime": {
     "end_time": "2023-05-20T08:12:38.294576Z",
     "start_time": "2023-05-20T08:11:49.739818Z"
    }
   },
   "outputs": [
    {
     "name": "stdout",
     "output_type": "stream",
     "text": [
      "target0 ==========\n",
      "0:\tlearn: 0.3877709\ttest: 0.3877383\tbest: 0.3877383 (0)\ttotal: 53.3ms\tremaining: 4m 26s\n",
      "200:\tlearn: 0.0636667\ttest: 0.0637503\tbest: 0.0637503 (200)\ttotal: 1s\tremaining: 23.9s\n",
      "400:\tlearn: 0.0234490\ttest: 0.0235906\tbest: 0.0235906 (400)\ttotal: 1.93s\tremaining: 22.1s\n",
      "600:\tlearn: 0.0152728\ttest: 0.0153717\tbest: 0.0153717 (600)\ttotal: 2.89s\tremaining: 21.2s\n",
      "800:\tlearn: 0.0127230\ttest: 0.0128291\tbest: 0.0128291 (800)\ttotal: 3.86s\tremaining: 20.2s\n",
      "1000:\tlearn: 0.0111387\ttest: 0.0112631\tbest: 0.0112631 (1000)\ttotal: 4.79s\tremaining: 19.2s\n",
      "1200:\tlearn: 0.0100597\ttest: 0.0102041\tbest: 0.0102041 (1200)\ttotal: 5.7s\tremaining: 18s\n",
      "1400:\tlearn: 0.0092110\ttest: 0.0093696\tbest: 0.0093696 (1400)\ttotal: 6.62s\tremaining: 17s\n",
      "1600:\tlearn: 0.0086260\ttest: 0.0087940\tbest: 0.0087940 (1600)\ttotal: 7.51s\tremaining: 16s\n",
      "1800:\tlearn: 0.0081183\ttest: 0.0082917\tbest: 0.0082917 (1800)\ttotal: 8.44s\tremaining: 15s\n",
      "2000:\tlearn: 0.0077283\ttest: 0.0079118\tbest: 0.0079118 (2000)\ttotal: 9.34s\tremaining: 14s\n",
      "2200:\tlearn: 0.0073941\ttest: 0.0075826\tbest: 0.0075826 (2200)\ttotal: 10.2s\tremaining: 13s\n",
      "2400:\tlearn: 0.0071010\ttest: 0.0072941\tbest: 0.0072941 (2400)\ttotal: 11.2s\tremaining: 12.1s\n",
      "2600:\tlearn: 0.0068400\ttest: 0.0070420\tbest: 0.0070420 (2600)\ttotal: 12.1s\tremaining: 11.1s\n",
      "2800:\tlearn: 0.0066048\ttest: 0.0068137\tbest: 0.0068137 (2800)\ttotal: 13s\tremaining: 10.2s\n",
      "3000:\tlearn: 0.0063689\ttest: 0.0065827\tbest: 0.0065827 (3000)\ttotal: 13.9s\tremaining: 9.24s\n",
      "3200:\tlearn: 0.0061860\ttest: 0.0064048\tbest: 0.0064048 (3200)\ttotal: 14.8s\tremaining: 8.3s\n",
      "3400:\tlearn: 0.0060215\ttest: 0.0062454\tbest: 0.0062454 (3400)\ttotal: 15.8s\tremaining: 7.42s\n",
      "3600:\tlearn: 0.0058502\ttest: 0.0060806\tbest: 0.0060806 (3600)\ttotal: 16.7s\tremaining: 6.49s\n",
      "3800:\tlearn: 0.0057029\ttest: 0.0059380\tbest: 0.0059380 (3800)\ttotal: 17.6s\tremaining: 5.56s\n",
      "4000:\tlearn: 0.0055635\ttest: 0.0058042\tbest: 0.0058042 (4000)\ttotal: 18.6s\tremaining: 4.63s\n",
      "4200:\tlearn: 0.0054368\ttest: 0.0056807\tbest: 0.0056807 (4200)\ttotal: 19.5s\tremaining: 3.71s\n",
      "4400:\tlearn: 0.0052971\ttest: 0.0055428\tbest: 0.0055428 (4400)\ttotal: 20.4s\tremaining: 2.78s\n",
      "4600:\tlearn: 0.0051383\ttest: 0.0053859\tbest: 0.0053859 (4600)\ttotal: 21.4s\tremaining: 1.85s\n",
      "4800:\tlearn: 0.0050232\ttest: 0.0052771\tbest: 0.0052771 (4800)\ttotal: 22.3s\tremaining: 924ms\n",
      "4999:\tlearn: 0.0049319\ttest: 0.0051908\tbest: 0.0051908 (4999)\ttotal: 23.2s\tremaining: 0us\n",
      "\n",
      "bestTest = 0.005190844004\n",
      "bestIteration = 4999\n",
      "\n",
      "target1 ==========\n",
      "0:\tlearn: 0.6272940\ttest: 0.6275588\tbest: 0.6275588 (0)\ttotal: 4.7ms\tremaining: 23.5s\n",
      "200:\tlearn: 0.2694819\ttest: 0.2686869\tbest: 0.2686869 (200)\ttotal: 901ms\tremaining: 21.5s\n",
      "400:\tlearn: 0.1258239\ttest: 0.1256973\tbest: 0.1256973 (400)\ttotal: 1.81s\tremaining: 20.8s\n",
      "600:\tlearn: 0.0950074\ttest: 0.0952921\tbest: 0.0952921 (600)\ttotal: 2.74s\tremaining: 20.1s\n",
      "800:\tlearn: 0.0821721\ttest: 0.0824803\tbest: 0.0824803 (800)\ttotal: 3.73s\tremaining: 19.6s\n",
      "1000:\tlearn: 0.0749485\ttest: 0.0752840\tbest: 0.0752840 (1000)\ttotal: 4.72s\tremaining: 18.8s\n",
      "1200:\tlearn: 0.0696045\ttest: 0.0699811\tbest: 0.0699811 (1200)\ttotal: 5.64s\tremaining: 17.8s\n",
      "1400:\tlearn: 0.0662424\ttest: 0.0667093\tbest: 0.0667093 (1400)\ttotal: 6.61s\tremaining: 17s\n",
      "1600:\tlearn: 0.0627341\ttest: 0.0631540\tbest: 0.0631540 (1600)\ttotal: 7.56s\tremaining: 16.1s\n",
      "1800:\tlearn: 0.0556726\ttest: 0.0559080\tbest: 0.0559080 (1800)\ttotal: 8.49s\tremaining: 15.1s\n",
      "2000:\tlearn: 0.0520665\ttest: 0.0522667\tbest: 0.0522667 (2000)\ttotal: 9.49s\tremaining: 14.2s\n",
      "2200:\tlearn: 0.0494444\ttest: 0.0496537\tbest: 0.0496537 (2200)\ttotal: 10.4s\tremaining: 13.3s\n",
      "2400:\tlearn: 0.0469245\ttest: 0.0471552\tbest: 0.0471552 (2400)\ttotal: 11.4s\tremaining: 12.4s\n",
      "2600:\tlearn: 0.0442339\ttest: 0.0444532\tbest: 0.0444532 (2600)\ttotal: 12.4s\tremaining: 11.4s\n",
      "2800:\tlearn: 0.0415828\ttest: 0.0417845\tbest: 0.0417845 (2800)\ttotal: 13.3s\tremaining: 10.4s\n",
      "3000:\tlearn: 0.0383536\ttest: 0.0385674\tbest: 0.0385674 (3000)\ttotal: 14.3s\tremaining: 9.55s\n",
      "3200:\tlearn: 0.0360335\ttest: 0.0362599\tbest: 0.0362599 (3200)\ttotal: 15.4s\tremaining: 8.65s\n",
      "3400:\tlearn: 0.0342132\ttest: 0.0344448\tbest: 0.0344448 (3400)\ttotal: 16.4s\tremaining: 7.71s\n",
      "3600:\tlearn: 0.0326565\ttest: 0.0329163\tbest: 0.0329163 (3600)\ttotal: 17.4s\tremaining: 6.75s\n",
      "3800:\tlearn: 0.0310741\ttest: 0.0313542\tbest: 0.0313542 (3800)\ttotal: 18.5s\tremaining: 5.83s\n",
      "4000:\tlearn: 0.0294002\ttest: 0.0297025\tbest: 0.0297025 (4000)\ttotal: 19.4s\tremaining: 4.85s\n",
      "4200:\tlearn: 0.0282184\ttest: 0.0285550\tbest: 0.0285550 (4200)\ttotal: 20.4s\tremaining: 3.88s\n",
      "4400:\tlearn: 0.0268746\ttest: 0.0272663\tbest: 0.0272663 (4400)\ttotal: 21.4s\tremaining: 2.91s\n",
      "4600:\tlearn: 0.0264397\ttest: 0.0268526\tbest: 0.0268526 (4600)\ttotal: 22.3s\tremaining: 1.94s\n",
      "4800:\tlearn: 0.0259539\ttest: 0.0263898\tbest: 0.0263898 (4800)\ttotal: 23.3s\tremaining: 964ms\n",
      "4999:\tlearn: 0.0250393\ttest: 0.0255626\tbest: 0.0255626 (4999)\ttotal: 24.2s\tremaining: 0us\n",
      "\n",
      "bestTest = 0.02556262739\n",
      "bestIteration = 4999\n",
      "\n"
     ]
    }
   ],
   "source": [
    "models = {}\n",
    "tr_preds = []\n",
    "val_preds = []\n",
    "\n",
    "for tg in TARGETS:\n",
    "    print(f\"{tg}\", \"=\" * 10)\n",
    "    cb_model = CatBoostRegressor(max_depth=4, iterations=5000,\n",
    "                                 early_stopping_rounds=20, objective=\"MAPE\", verbose=200,\n",
    "                                 random_state=RS)\n",
    "    cb_model.fit(X_tr, y_tr[tg], eval_set=(X_val, y_val[tg]))\n",
    "\n",
    "    tr_preds.append(cb_model.predict(X_tr))\n",
    "    val_preds.append(cb_model.predict(X_val))\n",
    "\n",
    "    models[tg] = cb_model"
   ]
  },
  {
   "cell_type": "markdown",
   "metadata": {},
   "source": [
    "Собираем предсказания вместе:"
   ]
  },
  {
   "cell_type": "code",
   "execution_count": 14,
   "metadata": {
    "ExecuteTime": {
     "end_time": "2023-05-20T08:12:38.298626Z",
     "start_time": "2023-05-20T08:12:38.296009Z"
    }
   },
   "outputs": [],
   "source": [
    "tr_preds = np.column_stack(tr_preds)\n",
    "val_preds = np.column_stack(val_preds)"
   ]
  },
  {
   "cell_type": "code",
   "execution_count": 15,
   "metadata": {
    "ExecuteTime": {
     "end_time": "2023-05-20T08:12:38.303940Z",
     "start_time": "2023-05-20T08:12:38.300010Z"
    }
   },
   "outputs": [],
   "source": [
    "tr_preds = np.clip(tr_preds, 0, 100)\n",
    "val_preds = np.clip(val_preds, 0, 100)"
   ]
  },
  {
   "cell_type": "markdown",
   "metadata": {},
   "source": [
    "Посчитаем метрики (так они считаются и для загрузок на платформе):"
   ]
  },
  {
   "cell_type": "code",
   "execution_count": 16,
   "metadata": {
    "ExecuteTime": {
     "end_time": "2023-05-20T08:12:38.318940Z",
     "start_time": "2023-05-20T08:12:38.305583Z"
    }
   },
   "outputs": [
    {
     "name": "stdout",
     "output_type": "stream",
     "text": [
      "MAPE (train): 1.499 %\n",
      "MAPE (val): 1.538 %\n"
     ]
    }
   ],
   "source": [
    "print(f\"MAPE (train): {mean_absolute_percentage_error(y_tr, tr_preds) * 100:.3f} %\")\n",
    "print(f\"MAPE (val): {mean_absolute_percentage_error(y_val, val_preds) * 100:.3f} %\")"
   ]
  },
  {
   "cell_type": "markdown",
   "metadata": {},
   "source": [
    "Сохраним модели:"
   ]
  },
  {
   "cell_type": "code",
   "execution_count": 17,
   "metadata": {
    "ExecuteTime": {
     "end_time": "2023-05-20T08:12:38.333686Z",
     "start_time": "2023-05-20T08:12:38.320644Z"
    }
   },
   "outputs": [],
   "source": [
    "for target, model in models.items():\n",
    "    model.save_model(DATA_DIR.joinpath(f\"{target}-cb-v1.cbm\"))"
   ]
  },
  {
   "cell_type": "markdown",
   "metadata": {},
   "source": [
    "Эти модели (в зависимости от `RS`) должны давать на публичном лидерборде `~10%`. Как сделать так, чтобы локальная валидация сходилась с лидербордом: вот в чем вопрос!"
   ]
  },
  {
   "cell_type": "markdown",
   "metadata": {
    "ExecuteTime": {
     "end_time": "2023-05-21T22:28:55.225855Z",
     "start_time": "2023-05-21T22:28:55.212112Z"
    }
   },
   "source": [
    "# Создаём сабмит"
   ]
  },
  {
   "cell_type": "code",
   "execution_count": 24,
   "metadata": {
    "ExecuteTime": {
     "end_time": "2023-05-21T22:48:19.267175Z",
     "start_time": "2023-05-21T22:48:19.256411Z"
    }
   },
   "outputs": [
    {
     "name": "stdout",
     "output_type": "stream",
     "text": [
      "Overwriting ../data/2/dataset/predict.py\n"
     ]
    }
   ],
   "source": [
    "%%writefile ../data/2/dataset/predict.py\n",
    "import pathlib\n",
    "import pandas as pd\n",
    "from catboost import CatBoostRegressor\n",
    "import numpy as np\n",
    "\n",
    "DATA_DIR = pathlib.Path(\".\")\n",
    "MODEL_FILE_0 = pathlib.Path(__file__).parent.joinpath(\"target0-cb-v1.cbm\")\n",
    "MODEL_FILE_1 = pathlib.Path(__file__).parent.joinpath(\"target1-cb-v1.cbm\")\n",
    "\n",
    "\n",
    "def predict(df: pd.DataFrame) -> pd.DataFrame:\n",
    "    \"\"\"\n",
    "    Вычисление предсказаний.\n",
    "\n",
    "    Параметры:\n",
    "        df:\n",
    "          датафрейм, содержащий строки из тестового множества.\n",
    "          Типы и имена колонок совпадают с типами и именами в ноутбуке, не содержит `np.nan` или `np.inf`.\n",
    "\n",
    "    Результат:\n",
    "        Датафрейм предсказаний.\n",
    "        Должен содержать то же количество строк и в том же порядке, а также колонки `target0` и `target1`.\n",
    "    \"\"\"    \n",
    "\n",
    "    predictions = {}\n",
    "\n",
    "    df[\"gas\"] = 0\n",
    "    df.loc[df.feature4==\"gas2\", \"gas\"] = 1\n",
    "    FTS = df.columns.difference([\"feature4\"])\n",
    "\n",
    "    for target, model_file in zip([\"target0\", \"target1\"], [MODEL_FILE_0, MODEL_FILE_1]):\n",
    "        model = CatBoostRegressor()\n",
    "        model.load_model(model_file)\n",
    "        predictions[target] = model.predict(df[FTS])\n",
    "\n",
    "    preds_df = pd.DataFrame(predictions, index=df.index)\n",
    "    return preds_df"
   ]
  },
  {
   "cell_type": "code",
   "execution_count": null,
   "metadata": {},
   "outputs": [],
   "source": []
  }
 ],
 "metadata": {
  "kernelspec": {
   "display_name": "Python 3",
   "language": "python",
   "name": "python3"
  },
  "language_info": {
   "codemirror_mode": {
    "name": "ipython",
    "version": 3
   },
   "file_extension": ".py",
   "mimetype": "text/x-python",
   "name": "python",
   "nbconvert_exporter": "python",
   "pygments_lexer": "ipython3",
   "version": "3.8.12"
  },
  "vscode": {
   "interpreter": {
    "hash": "8566eb0607572741f5df0b9bba8d97b510d80a4d430b258b7e0e8478f0b151dd"
   }
  }
 },
 "nbformat": 4,
 "nbformat_minor": 2
}
